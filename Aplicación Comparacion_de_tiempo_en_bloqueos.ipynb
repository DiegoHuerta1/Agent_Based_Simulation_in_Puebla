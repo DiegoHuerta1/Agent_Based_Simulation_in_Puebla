{
 "cells": [
  {
   "cell_type": "markdown",
   "id": "dceede67",
   "metadata": {},
   "source": [
    "# Aplicación del modelo de simulacion: Comparar el efecto del tiempo en un bloqueo\n",
    "\n",
    "Especificamente, se tiene un bloqueo que se quiere hacer en el centro historico. Se evaluan distintos horarios en los que se puede hacer este bloqueo, corriendo simulaciones. Posteriormente se compara el efecto que tiene el bloqueo al hacerlo en distintos horarios. Manteniendo un enfoque estadistico riguroso, se hacen varias simulaciones y se usan pruebas estadisticas para sacar conclusiones"
   ]
  },
  {
   "cell_type": "code",
   "execution_count": 1,
   "id": "b03091c9",
   "metadata": {},
   "outputs": [],
   "source": [
    "import numpy as np\n",
    "import math\n",
    "import networkx as nx\n",
    "import pandas as pd\n",
    "from tqdm import tqdm\n",
    "import time\n",
    "import pickle\n",
    "import random\n",
    "import colorsys\n",
    "from matplotlib.ticker import MaxNLocator\n",
    "from collections import Counter\n",
    "import matplotlib.colors as mcolors\n",
    "import os\n",
    "import pickle\n",
    "import copy\n",
    "from scipy.spatial.distance import pdist, squareform\n",
    "import gc\n",
    "import matplotlib.pyplot as plt"
   ]
  },
  {
   "cell_type": "code",
   "execution_count": 2,
   "id": "6cf7a286",
   "metadata": {},
   "outputs": [],
   "source": [
    "import seaborn as sns\n",
    "from scipy.stats import shapiro, levene, f_oneway\n",
    "from statsmodels.stats.multicomp import pairwise_tukeyhsd"
   ]
  },
  {
   "cell_type": "code",
   "execution_count": 3,
   "id": "47e9ddc1",
   "metadata": {},
   "outputs": [],
   "source": [
    "# cargar el modelo\n",
    "import simulation_model\n",
    "from simulation_model import Modelo"
   ]
  },
  {
   "cell_type": "code",
   "execution_count": 4,
   "id": "983aae5c",
   "metadata": {},
   "outputs": [],
   "source": [
    "# se van actualizando los resultados en \n",
    "carpeta_res  = \".\\\\Resultados_retrasos\\\\\"\n",
    "file_res = \"retrasos.csv\""
   ]
  },
  {
   "cell_type": "markdown",
   "id": "7b130b15",
   "metadata": {},
   "source": [
    "## Cargar centro historico"
   ]
  },
  {
   "cell_type": "code",
   "execution_count": 5,
   "id": "9b90f70c",
   "metadata": {},
   "outputs": [],
   "source": [
    "# carpeta donde se tiene la informacion del grafo\n",
    "carpeta_datos = \".\\\\Datos_centro_historico\\\\\""
   ]
  },
  {
   "cell_type": "code",
   "execution_count": 6,
   "id": "38691269",
   "metadata": {},
   "outputs": [
    {
     "name": "stdout",
     "output_type": "stream",
     "text": [
      "Grafo del centro historico\n",
      "Numero de nodos:   18872\n",
      "Numero de aristas: 20352\n"
     ]
    }
   ],
   "source": [
    "# cargar el grafo del centro\n",
    "with open(carpeta_datos + 'ejesviales_centro_graph.gpickle', 'rb') as f:\n",
    "    G_centro = pickle.load(f)\n",
    "    \n",
    "print(f\"Grafo del centro historico\")\n",
    "print(f\"Numero de nodos:   {G_centro.number_of_nodes()}\")\n",
    "print(f\"Numero de aristas: {G_centro.number_of_edges()}\")"
   ]
  },
  {
   "cell_type": "code",
   "execution_count": 7,
   "id": "94f6f434",
   "metadata": {},
   "outputs": [
    {
     "name": "stdout",
     "output_type": "stream",
     "text": [
      "Pos para 18872 nodos\n"
     ]
    }
   ],
   "source": [
    "# cargar el pos\n",
    "with open(carpeta_datos + 'ejesviales_centro_pos.pickle', 'rb') as f:\n",
    "    pos_centro = pickle.load(f)\n",
    "\n",
    "# ver que tenga de los nodos\n",
    "print(f\"Pos para {len(pos_centro)} nodos\")"
   ]
  },
  {
   "cell_type": "code",
   "execution_count": 8,
   "id": "f8b7a234",
   "metadata": {},
   "outputs": [],
   "source": [
    "# definir probabilidades de origen\n",
    "# primero se encuentra el posicion central\n",
    "array_pos = np.array(list(pos_centro.values()))\n",
    "pos_central = array_pos.mean(axis = 0)\n",
    "\n",
    "# ahora por cada nodo calcular la distancia de su pos al pos central\n",
    "# guardar en un dict\n",
    "distancias_centro = {}\n",
    "for nodo in G_centro.nodes():\n",
    "  # solo hacer si tiene grado menor a 3\n",
    "  if G_centro.degree(nodo) < 3:\n",
    "    distancias_centro[nodo] = np.linalg.norm(np.array(pos_centro[nodo]) - pos_central)\n",
    "  # sino, hacerlo 0\n",
    "  else:\n",
    "    distancias_centro[nodo] = 0\n",
    "\n",
    "# normalizar para tener probabilidades\n",
    "suma_distancias = sum(distancias_centro.values())\n",
    "proba_origen_centro = {nodo : distancias_centro[nodo]/suma_distancias for nodo in G_centro.nodes()}\n",
    "\n",
    "del distancias_centro"
   ]
  },
  {
   "cell_type": "code",
   "execution_count": 9,
   "id": "56f29b5d",
   "metadata": {},
   "outputs": [],
   "source": [
    "# cargar las probabilidades de destino\n",
    "with open(carpeta_datos + 'proba_destino.pkl', 'rb') as f:\n",
    "    proba_destino_centro = pickle.load(f)\n",
    "\n",
    "# remplazar Nan con 0\n",
    "proba_destino_centro = {k: (v if pd.notna(v) else 0) for k, v in proba_destino_centro.items()}"
   ]
  },
  {
   "cell_type": "code",
   "execution_count": 10,
   "id": "67fab2c7",
   "metadata": {},
   "outputs": [],
   "source": [
    "# poner todo esto en un dict\n",
    "info_grafo_centro = {\n",
    "    \"G\": G_centro,\n",
    "    \"pos\": pos_centro,\n",
    "    \"proba_origen\": proba_origen_centro,\n",
    "    \"proba_destino\": proba_destino_centro\n",
    "}"
   ]
  },
  {
   "cell_type": "code",
   "execution_count": 11,
   "id": "6185a8dc",
   "metadata": {},
   "outputs": [],
   "source": [
    "# argumentos de visualizacion\n",
    "arg_visua_centro = {\n",
    "    \"node_size\": 0.2,\n",
    "    \"edge_color\": \"gray\",\n",
    "    \"arrowsize\": 0.1,\n",
    "    \"color_vacio\": '#f0f0f0',\n",
    "    \"color_bloqueo\": \"red\",\n",
    "    \"color_atasco\": \"red\"\n",
    "}"
   ]
  },
  {
   "cell_type": "markdown",
   "id": "9f8cf1e2",
   "metadata": {},
   "source": [
    "## Filtrar un subgrafo del centro historico\n",
    "\n",
    "Para un analisis mas localizado"
   ]
  },
  {
   "cell_type": "code",
   "execution_count": 12,
   "id": "882cb473",
   "metadata": {},
   "outputs": [
    {
     "name": "stdout",
     "output_type": "stream",
     "text": [
      "Subgrafo a considerar\n",
      "Numero de nodos:   6205\n",
      "Numero de aristas: 6561\n"
     ]
    }
   ],
   "source": [
    "# centrado en un nodo del bloqueo, pero que sea grande\n",
    "subgrafo = nx.ego_graph(G_centro, 10871, radius=150, undirected=True)\n",
    "\n",
    "print(f\"Subgrafo a considerar\")\n",
    "print(f\"Numero de nodos:   {subgrafo.number_of_nodes()}\")\n",
    "print(f\"Numero de aristas: {subgrafo.number_of_edges()}\")"
   ]
  },
  {
   "cell_type": "code",
   "execution_count": 13,
   "id": "2f520197",
   "metadata": {},
   "outputs": [],
   "source": [
    "# poner la info en un dict\n",
    "info_grafo_centro = {\n",
    "    \"G\": subgrafo,\n",
    "    \"pos\": pos_centro,\n",
    "    \"proba_origen\": proba_origen_centro,\n",
    "    \"proba_destino\": proba_destino_centro\n",
    "}"
   ]
  },
  {
   "cell_type": "markdown",
   "id": "cd111cb7",
   "metadata": {},
   "source": [
    "## Delimitar el bloqueo\n",
    "\n",
    "Hacer un bloqueo B, probar hacerlo en distintos horarios. Ver como afecta al retraso promedio de un agente."
   ]
  },
  {
   "cell_type": "code",
   "execution_count": 14,
   "id": "772caae7",
   "metadata": {},
   "outputs": [],
   "source": [
    "# delimitar los bloqueos mismos todas las simulaciones\n",
    "nodos_bloqueo = {12663, 8342, 3036, 1237, 9680, 10871, 13519, 6729, 6455, 10466, 10492, 7225, 11105}"
   ]
  },
  {
   "cell_type": "code",
   "execution_count": 15,
   "id": "ffd5d02a",
   "metadata": {},
   "outputs": [],
   "source": [
    "# # modelo para ver\n",
    "# model_vis = Modelo(info_grafo_centro, argumentos_visualizacion = arg_visua_centro)\n",
    "# # ver bloqueo\n",
    "# fig, ax = plt.subplots(figsize=(10, 10))\n",
    "# model_vis.dibujar_path(list(nodos_bloqueo), color_path = \"red\", alpha_min = 0.3, ax=ax)\n",
    "# ax.set_title(\"Bloqueo\", fontsize = 10)\n",
    "# plt.show()"
   ]
  },
  {
   "cell_type": "code",
   "execution_count": 16,
   "id": "fa363b61",
   "metadata": {},
   "outputs": [
    {
     "data": {
      "image/png": "[encoded data removed]",
      "text/plain": [
       "<Figure size 800x400 with 1 Axes>"
      ]
     },
     "metadata": {},
     "output_type": "display_data"
    }
   ],
   "source": [
    "# constantes entre ambas simulaciones\n",
    "\n",
    "# para controlar el tiempo\n",
    "STEPS_PER_HORA = 120\n",
    "\n",
    "# delimitar el numero de agentes en el modelo\n",
    "NUM_AGENTES_TOTALES = 1600\n",
    "\n",
    "# horas de toda la simulacion\n",
    "HORA_INICIAL = 5\n",
    "HORA_FINAL = 23\n",
    "\n",
    "# Obtener numero de steps totales y funcion lambda\n",
    "total_steps, funcion_lambda = simulation_model.get_total_steps_and_lambda_function(HORA_INICIAL = HORA_INICIAL,\n",
    "                                                                                   HORA_FINAL = HORA_FINAL,\n",
    "                                                                                   NUM_AGENTES_TOTALES = NUM_AGENTES_TOTALES,\n",
    "                                                                                   STEPS_PER_HORA = STEPS_PER_HORA)\n",
    "\n",
    "\n",
    "# ver la funcion lambda en todos los steps\n",
    "fig, ax = plt.subplots(figsize=(8, 4))\n",
    "ax.plot([funcion_lambda(t) for t in range(total_steps)])\n",
    "ax.set_xlabel(\"step\")\n",
    "ax.set_ylabel(\"lambda\")\n",
    "ax.set_title(f\"Funcion lambda en los {total_steps} steps\")\n",
    "plt.show()"
   ]
  },
  {
   "cell_type": "markdown",
   "id": "2968748e",
   "metadata": {},
   "source": [
    "## Hacer el bloqueo en diferentes horarios\n",
    "\n",
    "Se consideran cuatro horarios para el bloqueo:\n",
    "* Horario h1 (5 am - 10 am)\n",
    "* Horario h2 (7 am - 12 am)\n",
    "* Horario h3 (3 pm - 8 pm)\n",
    "* Horario h4 (5 pm - 10 pm)\n",
    "\n",
    "\n",
    "Obtener muestras de las siguientes variables aleatorias\n",
    "\n",
    "$$\n",
    "X \\sim \\text{Retraso promedio de un agente al hacer el bloqueo en h1}\n",
    "$$\n",
    "$$\n",
    "Y \\sim \\text{Retraso promedio de un agente al hacer el bloqueo en h2}\n",
    "$$\n",
    "$$\n",
    "Z \\sim \\text{Retraso promedio de un agente al hacer el bloqueo en h3}\n",
    "$$\n",
    "$$\n",
    "W \\sim \\text{Retraso promedio de un agente al hacer el bloqueo en h4}\n",
    "$$"
   ]
  },
  {
   "cell_type": "code",
   "execution_count": 17,
   "id": "1ae485f0",
   "metadata": {},
   "outputs": [],
   "source": [
    "# delimitar los horarios de bloqueos\n",
    "horarios = {\"h1\": (5, 10), \"h2\": (7, 12), \"h3\": (15, 20), \"h4\": (17, 22)}\n",
    "\n",
    "# cuantas veces hacer simulaciones \n",
    "repeticiones = 2"
   ]
  },
  {
   "cell_type": "code",
   "execution_count": 18,
   "id": "85e175bc",
   "metadata": {
    "scrolled": true
   },
   "outputs": [
    {
     "name": "stdout",
     "output_type": "stream",
     "text": [
      "Repeticion 1\n"
     ]
    },
    {
     "name": "stderr",
     "output_type": "stream",
     "text": [
      "Steps maximos:: 100%|██████████████████████████████████████████████████████████████| 2160/2160 [00:45<00:00, 47.61it/s]\n",
      "Tiempos minimos:: 100%|██████████████████████████████████████████████████████████| 1602/1602 [00:00<00:00, 2073.95it/s]\n",
      "Steps maximos:: 100%|██████████████████████████████████████████████████████████████| 2160/2160 [00:46<00:00, 46.68it/s]\n",
      "Tiempos minimos:: 100%|██████████████████████████████████████████████████████████| 1586/1586 [00:00<00:00, 2141.80it/s]\n",
      "Steps maximos:: 100%|██████████████████████████████████████████████████████████████| 2160/2160 [00:45<00:00, 47.11it/s]\n",
      "Tiempos minimos:: 100%|██████████████████████████████████████████████████████████| 1565/1565 [00:00<00:00, 2007.45it/s]\n",
      "Steps maximos:: 100%|██████████████████████████████████████████████████████████████| 2160/2160 [00:42<00:00, 50.34it/s]\n",
      "Tiempos minimos:: 100%|██████████████████████████████████████████████████████████| 1512/1512 [00:00<00:00, 1944.60it/s]\n"
     ]
    },
    {
     "name": "stdout",
     "output_type": "stream",
     "text": [
      "----------------------------------------------------------------------------------------------------\n",
      "Repeticion 2\n"
     ]
    },
    {
     "name": "stderr",
     "output_type": "stream",
     "text": [
      "Steps maximos:: 100%|██████████████████████████████████████████████████████████████| 2160/2160 [00:46<00:00, 46.06it/s]\n",
      "Tiempos minimos:: 100%|██████████████████████████████████████████████████████████| 1552/1552 [00:00<00:00, 2161.79it/s]\n",
      "Steps maximos:: 100%|██████████████████████████████████████████████████████████████| 2160/2160 [00:43<00:00, 49.98it/s]\n",
      "Tiempos minimos:: 100%|██████████████████████████████████████████████████████████| 1559/1559 [00:00<00:00, 2092.73it/s]\n",
      "Steps maximos:: 100%|██████████████████████████████████████████████████████████████| 2160/2160 [00:43<00:00, 49.36it/s]\n",
      "Tiempos minimos:: 100%|██████████████████████████████████████████████████████████| 1559/1559 [00:00<00:00, 2047.58it/s]\n",
      "Steps maximos:: 100%|██████████████████████████████████████████████████████████████| 2160/2160 [00:44<00:00, 48.68it/s]\n",
      "Tiempos minimos:: 100%|██████████████████████████████████████████████████████████| 1662/1662 [00:00<00:00, 2048.55it/s]"
     ]
    },
    {
     "name": "stdout",
     "output_type": "stream",
     "text": [
      "----------------------------------------------------------------------------------------------------\n"
     ]
    },
    {
     "name": "stderr",
     "output_type": "stream",
     "text": [
      "\n"
     ]
    }
   ],
   "source": [
    "# guardar resultados\n",
    "resultados = {h : [] for h in horarios.keys()}\n",
    "\n",
    "# por cada vez que se quieran hacer las 3 simulaciones\n",
    "for idx in range(repeticiones):\n",
    "    print(f\"Repeticion {idx+1}\")\n",
    "\n",
    "    # por cada horario de bloqueo\n",
    "    for h_i, horas in horarios.items():\n",
    "\n",
    "        # calcular el step inicial y final usando las horas del bloqueo\n",
    "        step_inicial_bloqueo = (horas[0] - HORA_INICIAL)*STEPS_PER_HORA\n",
    "        step_final_bloqueo = (horas[1] - HORA_INICIAL)*STEPS_PER_HORA\n",
    "\n",
    "        # delimitar el bloqueo para esta simulacion\n",
    "        bloqueos_centro = [\n",
    "            {\n",
    "                \"inicio_bloqueo\": step_inicial_bloqueo,\n",
    "                \"fin_bloqueo\": step_final_bloqueo,\n",
    "                \"nodos_bloqueados\": nodos_bloqueo,\n",
    "            }\n",
    "        ]\n",
    "\n",
    "        # hacer el modelo\n",
    "        modelo = Modelo(info_grafo_centro, argumentos_visualizacion = arg_visua_centro)\n",
    "\n",
    "        # correr la simulacion\n",
    "        modelo.run_model(poblacion_inicial = 0,\n",
    "                         lambda_tiempo = funcion_lambda,\n",
    "                         steps_generando = total_steps,\n",
    "                         steps_finales = 0,\n",
    "                         visualizar= False,\n",
    "                         sleep= 0,\n",
    "                         ver_barra_progreso= True,\n",
    "                         pesos_trafico = \"simple\",\n",
    "                         tiempo_recalcular_agentes = 5,\n",
    "                         bloqueos = bloqueos_centro)\n",
    "\n",
    "        # obtener el retraso promeido de los agentes\n",
    "\n",
    "        # solo considerar agentes que si llegaron a su destino\n",
    "        agentes_modelo = [coche for coche in modelo.historico_agentes.values() if coche.tiempo_real < np.inf]\n",
    "        # porcentaje de retraso de cada agente\n",
    "        porcentaje_retraso = [100*agente.tiempo_real/agente.tiempo_minimo - 100 \n",
    "                              for agente in agentes_modelo\n",
    "                              if agente.tiempo_minimo != 0]\n",
    "\n",
    "        # agregar a los resultados\n",
    "        resultados[h_i].append(np.mean(porcentaje_retraso))\n",
    "    print(\"-\"*100)"
   ]
  },
  {
   "cell_type": "markdown",
   "id": "80c6eb15",
   "metadata": {},
   "source": [
    "## Guardar resultados de estas pocas simulaciones\n",
    "\n",
    "Por eficencia computacional, correr el programa solo hace pocas simulaciones.\n",
    "Estas se añaden a los resultados totales, resultado de muchas ejecuciones"
   ]
  },
  {
   "cell_type": "code",
   "execution_count": 19,
   "id": "a404d429",
   "metadata": {},
   "outputs": [
    {
     "name": "stdout",
     "output_type": "stream",
     "text": [
      "(2, 4)\n"
     ]
    },
    {
     "data": {
      "text/html": [
       "<div>\n",
       "<style scoped>\n",
       "    .dataframe tbody tr th:only-of-type {\n",
       "        vertical-align: middle;\n",
       "    }\n",
       "\n",
       "    .dataframe tbody tr th {\n",
       "        vertical-align: top;\n",
       "    }\n",
       "\n",
       "    .dataframe thead th {\n",
       "        text-align: right;\n",
       "    }\n",
       "</style>\n",
       "<table border=\"1\" class=\"dataframe\">\n",
       "  <thead>\n",
       "    <tr style=\"text-align: right;\">\n",
       "      <th></th>\n",
       "      <th>h1</th>\n",
       "      <th>h2</th>\n",
       "      <th>h3</th>\n",
       "      <th>h4</th>\n",
       "    </tr>\n",
       "  </thead>\n",
       "  <tbody>\n",
       "    <tr>\n",
       "      <th>0</th>\n",
       "      <td>1.283881</td>\n",
       "      <td>1.325132</td>\n",
       "      <td>1.353020</td>\n",
       "      <td>1.177704</td>\n",
       "    </tr>\n",
       "    <tr>\n",
       "      <th>1</th>\n",
       "      <td>1.242310</td>\n",
       "      <td>1.637537</td>\n",
       "      <td>1.444183</td>\n",
       "      <td>1.447889</td>\n",
       "    </tr>\n",
       "  </tbody>\n",
       "</table>\n",
       "</div>"
      ],
      "text/plain": [
       "         h1        h2        h3        h4\n",
       "0  1.283881  1.325132  1.353020  1.177704\n",
       "1  1.242310  1.637537  1.444183  1.447889"
      ]
     },
     "execution_count": 19,
     "metadata": {},
     "output_type": "execute_result"
    }
   ],
   "source": [
    "# hacer df de resultados\n",
    "df_resultados = pd.DataFrame(resultados)\n",
    "print(df_resultados.shape)\n",
    "df_resultados.head()"
   ]
  },
  {
   "cell_type": "code",
   "execution_count": 20,
   "id": "02b635a5",
   "metadata": {},
   "outputs": [],
   "source": [
    "# intenta cargar un archivo existente\n",
    "try:\n",
    "\n",
    "    # leer\n",
    "    df = pd.read_csv(carpeta_res + file_res)\n",
    "    # agregar nueva fila, con la info nueva\n",
    "    df = pd.concat([df, df_resultados], ignore_index=True)\n",
    "    df = df.fillna(0)\n",
    "    # guardar el archivo modificado\n",
    "    df.to_csv(carpeta_res + file_res, index=False)\n",
    "\n",
    "# si no se puede abrir, no existe    \n",
    "except FileNotFoundError:\n",
    "\n",
    "    # guardar solo la info nueva\n",
    "    df = df_resultados.fillna(0)\n",
    "    df.to_csv(carpeta_res + file_res, index=False)"
   ]
  },
  {
   "cell_type": "markdown",
   "id": "51add30e",
   "metadata": {},
   "source": [
    "## Analizar resultados\n",
    "\n",
    "Esto unicamente se hace hasta que el df creado en la seccion anterior sea lo suficientemente grande.\n",
    "\n",
    "\n",
    "Se obtienen muestras\n",
    "\n",
    "$$\n",
    "X_1, X_2, \\dots, X_n \\quad \\quad  \\text{ i.i.d.} \\quad X_i \\sim X \\\\\n",
    "Y_1, Y_2, \\dots, Y_n \\quad \\quad  \\text{    i.i.d.} \\quad Y_i \\sim Y \\\\\n",
    "Z_1, Z_2, \\dots, Z_n \\quad \\quad \\text{i.i.d} \\quad Z_i \\sim Z \\\\\n",
    "W_1, W_2, \\dots, W_n \\quad \\quad  \\text{i.i.d} \\quad W_i \\sim W \\\\\n",
    "$$\n"
   ]
  },
  {
   "cell_type": "code",
   "execution_count": 21,
   "id": "4c0a4334",
   "metadata": {},
   "outputs": [
    {
     "name": "stdout",
     "output_type": "stream",
     "text": [
      "(30, 4)\n"
     ]
    },
    {
     "data": {
      "text/html": [
       "<div>\n",
       "<style scoped>\n",
       "    .dataframe tbody tr th:only-of-type {\n",
       "        vertical-align: middle;\n",
       "    }\n",
       "\n",
       "    .dataframe tbody tr th {\n",
       "        vertical-align: top;\n",
       "    }\n",
       "\n",
       "    .dataframe thead th {\n",
       "        text-align: right;\n",
       "    }\n",
       "</style>\n",
       "<table border=\"1\" class=\"dataframe\">\n",
       "  <thead>\n",
       "    <tr style=\"text-align: right;\">\n",
       "      <th></th>\n",
       "      <th>h1</th>\n",
       "      <th>h2</th>\n",
       "      <th>h3</th>\n",
       "      <th>h4</th>\n",
       "    </tr>\n",
       "  </thead>\n",
       "  <tbody>\n",
       "    <tr>\n",
       "      <th>0</th>\n",
       "      <td>1.331194</td>\n",
       "      <td>1.408290</td>\n",
       "      <td>1.458523</td>\n",
       "      <td>1.361015</td>\n",
       "    </tr>\n",
       "    <tr>\n",
       "      <th>1</th>\n",
       "      <td>1.363488</td>\n",
       "      <td>1.343773</td>\n",
       "      <td>1.351160</td>\n",
       "      <td>1.315800</td>\n",
       "    </tr>\n",
       "    <tr>\n",
       "      <th>2</th>\n",
       "      <td>1.281391</td>\n",
       "      <td>1.497986</td>\n",
       "      <td>1.601394</td>\n",
       "      <td>1.250454</td>\n",
       "    </tr>\n",
       "    <tr>\n",
       "      <th>3</th>\n",
       "      <td>1.495366</td>\n",
       "      <td>1.474004</td>\n",
       "      <td>1.503905</td>\n",
       "      <td>1.180583</td>\n",
       "    </tr>\n",
       "    <tr>\n",
       "      <th>4</th>\n",
       "      <td>1.215524</td>\n",
       "      <td>1.373302</td>\n",
       "      <td>1.293851</td>\n",
       "      <td>1.374977</td>\n",
       "    </tr>\n",
       "  </tbody>\n",
       "</table>\n",
       "</div>"
      ],
      "text/plain": [
       "         h1        h2        h3        h4\n",
       "0  1.331194  1.408290  1.458523  1.361015\n",
       "1  1.363488  1.343773  1.351160  1.315800\n",
       "2  1.281391  1.497986  1.601394  1.250454\n",
       "3  1.495366  1.474004  1.503905  1.180583\n",
       "4  1.215524  1.373302  1.293851  1.374977"
      ]
     },
     "execution_count": 21,
     "metadata": {},
     "output_type": "execute_result"
    }
   ],
   "source": [
    "# hacer df de resultados\n",
    "print(df.shape)\n",
    "df.head()"
   ]
  },
  {
   "cell_type": "markdown",
   "id": "55bbba62",
   "metadata": {},
   "source": [
    "### 1) Estadistica descriptiva"
   ]
  },
  {
   "cell_type": "code",
   "execution_count": 33,
   "id": "5a267c9e",
   "metadata": {},
   "outputs": [
    {
     "data": {
      "image/png": "[encoded data removed]",
      "text/plain": [
       "<Figure size 800x500 with 4 Axes>"
      ]
     },
     "metadata": {},
     "output_type": "display_data"
    }
   ],
   "source": [
    "fig, ax = plt.subplots(2, 2, figsize=(8, 5), sharex = True, sharey=True)\n",
    "num_bins = 7\n",
    "\n",
    "# 1\n",
    "ax[0, 0].hist(df[\"h1\"], bins = num_bins)\n",
    "sns.kdeplot(df[\"h1\"], ax=ax[0, 0], color=\"red\") \n",
    "ax[0, 0].set_title(\"Bloqueo h1\")\n",
    "          \n",
    "\n",
    "# 2\n",
    "ax[0, 1].hist(df[\"h2\"], bins = num_bins)\n",
    "sns.kdeplot(df[\"h2\"], ax=ax[0, 1], color=\"red\") \n",
    "ax[0, 1].set_title(\"Bloqueo h2\")\n",
    "\n",
    "# 3\n",
    "ax[1, 0].hist(df[\"h3\"], bins = num_bins)\n",
    "sns.kdeplot(df[\"h3\"], ax=ax[1, 0], color=\"red\") \n",
    "ax[1, 0].set_title(\"Bloqueo h3\")\n",
    "\n",
    "# 4\n",
    "ax[1, 1].hist(df[\"h4\"], bins = num_bins)\n",
    "sns.kdeplot(df[\"h4\"], ax=ax[1, 1], color=\"red\") \n",
    "ax[1, 1].set_title(\"Bloqueo h4\")\n",
    "\n",
    "plt.tight_layout()\n",
    "plt.show()"
   ]
  },
  {
   "cell_type": "code",
   "execution_count": 23,
   "id": "3b8c09c0",
   "metadata": {},
   "outputs": [
    {
     "data": {
      "image/png": "[encoded data removed]",
      "text/plain": [
       "<Figure size 800x600 with 1 Axes>"
      ]
     },
     "metadata": {},
     "output_type": "display_data"
    }
   ],
   "source": [
    "df_long = pd.melt(df, var_name='Horario', value_name='Retraso promedio')\n",
    "\n",
    "# Creamos el boxplot\n",
    "plt.figure(figsize=(8, 6))\n",
    "sns.boxplot(data=df_long, x='Horario', y='Retraso promedio')\n",
    "plt.title('Retraso promedio segun horario de bloqueo')\n",
    "plt.show()"
   ]
  },
  {
   "cell_type": "markdown",
   "id": "3dad8532",
   "metadata": {},
   "source": [
    "### 2) Comprobar normalidad\n",
    "\n",
    "Shapiro test\n",
    "\n",
    "$$\n",
    "H_0: \\text{Los datos tienen distribucion normal} \\\\\n",
    "v.s \\\\\n",
    "H_1: \\text{Los datos no tienen distribucion normal}\n",
    "$$\n",
    "\n",
    "\n",
    "https://docs.scipy.org/doc/scipy/reference/generated/scipy.stats.shapiro.html"
   ]
  },
  {
   "cell_type": "code",
   "execution_count": 24,
   "id": "ac8f3b63",
   "metadata": {},
   "outputs": [
    {
     "data": {
      "text/plain": [
       "ShapiroResult(statistic=np.float64(0.9549845976563338), pvalue=np.float64(0.2294261921552907))"
      ]
     },
     "execution_count": 24,
     "metadata": {},
     "output_type": "execute_result"
    }
   ],
   "source": [
    "shapiro(df[\"h1\"])"
   ]
  },
  {
   "cell_type": "code",
   "execution_count": 25,
   "id": "05f3e70e",
   "metadata": {},
   "outputs": [
    {
     "data": {
      "text/plain": [
       "ShapiroResult(statistic=np.float64(0.9678035724581135), pvalue=np.float64(0.4809596510674948))"
      ]
     },
     "execution_count": 25,
     "metadata": {},
     "output_type": "execute_result"
    }
   ],
   "source": [
    "shapiro(df[\"h2\"])"
   ]
  },
  {
   "cell_type": "code",
   "execution_count": 26,
   "id": "470df41c",
   "metadata": {},
   "outputs": [
    {
     "data": {
      "text/plain": [
       "ShapiroResult(statistic=np.float64(0.9770696512955229), pvalue=np.float64(0.7434521150319786))"
      ]
     },
     "execution_count": 26,
     "metadata": {},
     "output_type": "execute_result"
    }
   ],
   "source": [
    "shapiro(df[\"h3\"])"
   ]
  },
  {
   "cell_type": "code",
   "execution_count": 27,
   "id": "db305503",
   "metadata": {},
   "outputs": [
    {
     "data": {
      "text/plain": [
       "ShapiroResult(statistic=np.float64(0.962115317416761), pvalue=np.float64(0.3504357002245264))"
      ]
     },
     "execution_count": 27,
     "metadata": {},
     "output_type": "execute_result"
    }
   ],
   "source": [
    "shapiro(df[\"h4\"])"
   ]
  },
  {
   "cell_type": "markdown",
   "id": "c9bbdeb0",
   "metadata": {},
   "source": [
    "### 3) Checar misma varianza\n",
    "\n",
    "Levene test\n",
    "\n",
    "$$\n",
    "H_0: \\text{Misma varianza en todas las poblaciones} \\\\\n",
    "v.s \\\\\n",
    "H_1: \\text{No todas varianzas iguales}\n",
    "$$\n",
    "\n",
    "\n",
    "https://docs.scipy.org/doc/scipy/reference/generated/scipy.stats.levene.html"
   ]
  },
  {
   "cell_type": "code",
   "execution_count": 28,
   "id": "2c6615fa",
   "metadata": {},
   "outputs": [
    {
     "data": {
      "text/plain": [
       "LeveneResult(statistic=np.float64(1.521870648007845), pvalue=np.float64(0.2125379875515849))"
      ]
     },
     "execution_count": 28,
     "metadata": {},
     "output_type": "execute_result"
    }
   ],
   "source": [
    "levene(df[\"h1\"], df[\"h2\"], df[\"h3\"], df[\"h4\"])"
   ]
  },
  {
   "cell_type": "markdown",
   "id": "a3a37e63",
   "metadata": {},
   "source": [
    "### 4) Diferencia entre grupuos\n",
    "\n",
    "One-way ANOVA\n",
    "\n",
    "$$\n",
    "H_0: \\text{Todas las medias son iguales} \\\\\n",
    "v.s \\\\\n",
    "H_1: \\text{No todas las medias son iguales}\n",
    "$$\n",
    "\n",
    "\n",
    "Supuestos:\n",
    "* Muestras independientes\n",
    "* Distribuciones normales\n",
    "* Misma varianza\n",
    "\n",
    "\n",
    "https://docs.scipy.org/doc/scipy/reference/generated/scipy.stats.f_oneway.html"
   ]
  },
  {
   "cell_type": "code",
   "execution_count": 29,
   "id": "3706dc8e",
   "metadata": {},
   "outputs": [
    {
     "data": {
      "text/plain": [
       "F_onewayResult(statistic=np.float64(14.586790340801171), pvalue=np.float64(4.004742771799428e-08))"
      ]
     },
     "execution_count": 29,
     "metadata": {},
     "output_type": "execute_result"
    }
   ],
   "source": [
    "f_oneway(df[\"h1\"], df[\"h2\"], df[\"h3\"], df[\"h4\"])"
   ]
  },
  {
   "cell_type": "markdown",
   "id": "f2b6f0cf",
   "metadata": {},
   "source": [
    "### 5) Identificar diferencias\n",
    "\n",
    "Tukey’s HSD\n",
    "\n",
    "\n",
    "Mismos supuestos que one-way ANOVA\n",
    "\n",
    "https://docs.scipy.org/doc/scipy/reference/generated/scipy.stats.tukey_hsd.html\n",
    "\n",
    "https://www.statsmodels.org/dev/generated/statsmodels.stats.multicomp.pairwise_tukeyhsd.html"
   ]
  },
  {
   "cell_type": "code",
   "execution_count": 30,
   "id": "c054a6ce",
   "metadata": {},
   "outputs": [
    {
     "name": "stdout",
     "output_type": "stream",
     "text": [
      "Multiple Comparison of Means - Tukey HSD, FWER=0.05 \n",
      "====================================================\n",
      "group1 group2 meandiff p-adj   lower   upper  reject\n",
      "----------------------------------------------------\n",
      "    h1     h2   0.0863 0.0073  0.0178  0.1548   True\n",
      "    h1     h3   0.0019 0.9999 -0.0665  0.0704  False\n",
      "    h1     h4  -0.0875 0.0063 -0.1559  -0.019   True\n",
      "    h2     h3  -0.0843 0.0092 -0.1528 -0.0159   True\n",
      "    h2     h4  -0.1737    0.0 -0.2422 -0.1053   True\n",
      "    h3     h4  -0.0894  0.005 -0.1579 -0.0209   True\n",
      "----------------------------------------------------\n"
     ]
    }
   ],
   "source": [
    "melted_df = df.melt()\n",
    "posthoc_test = pairwise_tukeyhsd(melted_df['value'], melted_df['variable'], alpha = 0.05)\n",
    "print(posthoc_test)"
   ]
  },
  {
   "cell_type": "code",
   "execution_count": 31,
   "id": "50268cc7",
   "metadata": {},
   "outputs": [
    {
     "data": {
      "image/png": "[encoded data removed]",
      "text/plain": [
       "<Figure size 1000x600 with 1 Axes>"
      ]
     },
     "metadata": {},
     "output_type": "display_data"
    }
   ],
   "source": [
    "fig = posthoc_test.plot_simultaneous()"
   ]
  },
  {
   "cell_type": "markdown",
   "id": "02365aec",
   "metadata": {},
   "source": [
    "## Conclusiones\n",
    "\n",
    "* El horario h4 (5 pm - 10 pm) causa el menor retraso\n",
    "* El horario h2 (7 am - 12 am) causa el mayor retraso\n",
    "* No hay diferencia entre hacer el bloqueo en h1 (5 am - 10 am) o h3 (3 pm - 8 pm)"
   ]
  }
 ],
 "metadata": {
  "kernelspec": {
   "display_name": "simulation",
   "language": "python",
   "name": "simulation"
  },
  "language_info": {
   "codemirror_mode": {
    "name": "ipython",
    "version": 3
   },
   "file_extension": ".py",
   "mimetype": "text/x-python",
   "name": "python",
   "nbconvert_exporter": "python",
   "pygments_lexer": "ipython3",
   "version": "3.13.0"
  }
 },
 "nbformat": 4,
 "nbformat_minor": 5
}
